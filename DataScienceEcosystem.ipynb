{
 "cells": [
  {
   "cell_type": "markdown",
   "id": "779d50ef-d3c6-4b40-a59b-147f04de4286",
   "metadata": {},
   "source": [
    "# Data Science Tools and Ecosystem"
   ]
  },
  {
   "cell_type": "markdown",
   "id": "a7878c8c-3672-4ac8-a019-64e62088b810",
   "metadata": {},
   "source": [
    "In this notebook, Data Science Tools and Ecosystem are summarized."
   ]
  },
  {
   "cell_type": "markdown",
   "id": "188ca412-2820-49e4-ad74-ef0a89e16129",
   "metadata": {},
   "source": [
    "**Objectives:**\n",
    "- List popular languages for Data Science\n",
    "- Commonly used libraries\n",
    "- Simle arithmentic expressions"
   ]
  },
  {
   "cell_type": "markdown",
   "id": "b3f59d36-5e48-4d87-aab8-436e8b3ff45e",
   "metadata": {},
   "source": [
    "Some of the popular languages that Data Scientists use are:\n",
    "1. Python\n",
    "2. R\n",
    "3. C++\n",
    "4. Julia"
   ]
  },
  {
   "cell_type": "markdown",
   "id": "6b91d3e4-89af-4c3b-8dc5-259289cac8e1",
   "metadata": {},
   "source": [
    "Some of the commonly used libraries used by Data Scientists include:\n",
    "1. pandas\n",
    "2. numpy\n",
    "3. ggplot\n",
    "4. seaborn\n",
    "5. matplotlib\n",
    "6. scikit-learn"
   ]
  },
  {
   "cell_type": "markdown",
   "id": "c3665db1-35e7-4229-864d-bb5ace62b3c9",
   "metadata": {},
   "source": [
    "| Data Science Tools |\n",
    "|------|\n",
    "|Jupyter Notebook|\n",
    "|RStudio|\n",
    "|Power BI|\n",
    "|Anaconda|"
   ]
  },
  {
   "cell_type": "markdown",
   "id": "5f3db102-9379-4fff-bcb3-5102decc6af8",
   "metadata": {},
   "source": [
    "### Below are a few examples of evaluating arithmetic expressions in Python"
   ]
  },
  {
   "cell_type": "markdown",
   "id": "e1147b7a-9f36-4c5c-af05-906eb1de7260",
   "metadata": {},
   "source": [
    "This is a simple arithmetic expression to multiply then add integers\n"
   ]
  },
  {
   "cell_type": "code",
   "execution_count": 19,
   "id": "a81996c3-90c1-49c6-8654-1c152144be59",
   "metadata": {},
   "outputs": [
    {
     "data": {
      "text/plain": [
       "17"
      ]
     },
     "execution_count": 19,
     "metadata": {},
     "output_type": "execute_result"
    }
   ],
   "source": [
    "(3*4)+5"
   ]
  },
  {
   "cell_type": "markdown",
   "id": "8aabadf5-2cc3-44a1-8e57-d893088df7dc",
   "metadata": {},
   "source": [
    "This will convert 200 minutes to hours by diving by 60"
   ]
  },
  {
   "cell_type": "code",
   "execution_count": 22,
   "id": "284fee7b-69d5-4306-98ca-fbb63de1620e",
   "metadata": {},
   "outputs": [
    {
     "data": {
      "text/plain": [
       "3.3333333333333335"
      ]
     },
     "execution_count": 22,
     "metadata": {},
     "output_type": "execute_result"
    }
   ],
   "source": [
    "200/60"
   ]
  },
  {
   "cell_type": "markdown",
   "id": "791bf7ef-b34d-4e58-8b5d-bc9441a32a89",
   "metadata": {},
   "source": [
    "## Author\n",
    "Guido"
   ]
  }
 ],
 "metadata": {
  "kernelspec": {
   "display_name": "Python 3 (ipykernel)",
   "language": "python",
   "name": "python3"
  },
  "language_info": {
   "codemirror_mode": {
    "name": "ipython",
    "version": 3
   },
   "file_extension": ".py",
   "mimetype": "text/x-python",
   "name": "python",
   "nbconvert_exporter": "python",
   "pygments_lexer": "ipython3",
   "version": "3.12.4"
  }
 },
 "nbformat": 4,
 "nbformat_minor": 5
}
